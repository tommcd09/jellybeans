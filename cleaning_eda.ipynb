{
 "cells": [
  {
   "cell_type": "markdown",
   "id": "9f5c6e2a",
   "metadata": {},
   "source": [
    "# Cleaning and Exploratory Data Analysis\n",
    "\n",
    "Here, we will clean and explore the jelly bean estimation data that we collected with the our [survey](https://forms.gle/arF54bKpV1wC1MXU9), with the goal of focusing on questions and methods for further analysis.\n",
    "\n",
    "First, we import the necessary Python packages and load the data into a pandas DataFrame."
   ]
  },
  {
   "cell_type": "code",
   "execution_count": 1,
   "id": "d97f8f4e",
   "metadata": {},
   "outputs": [],
   "source": [
    "import pandas as pd\n",
    "import numpy as np\n",
    "import matplotlib.pyplot as plt\n",
    "import seaborn as sns\n",
    "from statsmodels.api import qqplot\n",
    "import edafuncs as ef\n",
    "\n",
    "jellybeans = pd.read_csv('./data/jelly_beans.csv', skipinitialspace=True)"
   ]
  },
  {
   "cell_type": "markdown",
   "id": "79ff080d",
   "metadata": {},
   "source": [
    "Let's have a first view of the data."
   ]
  },
  {
   "cell_type": "code",
   "execution_count": 2,
   "id": "7e97b0f6",
   "metadata": {},
   "outputs": [
    {
     "data": {
      "text/html": [
       "<div>\n",
       "<style scoped>\n",
       "    .dataframe tbody tr th:only-of-type {\n",
       "        vertical-align: middle;\n",
       "    }\n",
       "\n",
       "    .dataframe tbody tr th {\n",
       "        vertical-align: top;\n",
       "    }\n",
       "\n",
       "    .dataframe thead th {\n",
       "        text-align: right;\n",
       "    }\n",
       "</style>\n",
       "<table border=\"1\" class=\"dataframe\">\n",
       "  <thead>\n",
       "    <tr style=\"text-align: right;\">\n",
       "      <th></th>\n",
       "      <th>Timestamp</th>\n",
       "      <th>How many jelly beans are in the vase?</th>\n",
       "      <th>To the nearest minute, how many minutes do you estimate you spent thinking before you decided on your guess?</th>\n",
       "      <th>On a scale of 1 to 5, with 1 being not confident at all and 5 being completely confident, how confident are you in your guess?</th>\n",
       "    </tr>\n",
       "  </thead>\n",
       "  <tbody>\n",
       "    <tr>\n",
       "      <th>0</th>\n",
       "      <td>4/18/22 23:29</td>\n",
       "      <td>12</td>\n",
       "      <td>0</td>\n",
       "      <td>5</td>\n",
       "    </tr>\n",
       "    <tr>\n",
       "      <th>1</th>\n",
       "      <td>4/18/22 17:45</td>\n",
       "      <td>17</td>\n",
       "      <td>1</td>\n",
       "      <td>5</td>\n",
       "    </tr>\n",
       "    <tr>\n",
       "      <th>2</th>\n",
       "      <td>4/18/22 21:24</td>\n",
       "      <td>20</td>\n",
       "      <td>0</td>\n",
       "      <td>1</td>\n",
       "    </tr>\n",
       "    <tr>\n",
       "      <th>3</th>\n",
       "      <td>4/18/22 17:35</td>\n",
       "      <td>100</td>\n",
       "      <td>1</td>\n",
       "      <td>2</td>\n",
       "    </tr>\n",
       "    <tr>\n",
       "      <th>4</th>\n",
       "      <td>4/18/22 20:46</td>\n",
       "      <td>128</td>\n",
       "      <td>1</td>\n",
       "      <td>1</td>\n",
       "    </tr>\n",
       "    <tr>\n",
       "      <th>...</th>\n",
       "      <td>...</td>\n",
       "      <td>...</td>\n",
       "      <td>...</td>\n",
       "      <td>...</td>\n",
       "    </tr>\n",
       "    <tr>\n",
       "      <th>121</th>\n",
       "      <td>4/19/22 16:10</td>\n",
       "      <td>5000</td>\n",
       "      <td>2</td>\n",
       "      <td>3</td>\n",
       "    </tr>\n",
       "    <tr>\n",
       "      <th>122</th>\n",
       "      <td>4/18/22 16:44</td>\n",
       "      <td>8325</td>\n",
       "      <td>0</td>\n",
       "      <td>3</td>\n",
       "    </tr>\n",
       "    <tr>\n",
       "      <th>123</th>\n",
       "      <td>4/19/22 5:00</td>\n",
       "      <td>10369</td>\n",
       "      <td>17</td>\n",
       "      <td>4</td>\n",
       "    </tr>\n",
       "    <tr>\n",
       "      <th>124</th>\n",
       "      <td>4/18/22 18:48</td>\n",
       "      <td>15300</td>\n",
       "      <td>5</td>\n",
       "      <td>2</td>\n",
       "    </tr>\n",
       "    <tr>\n",
       "      <th>125</th>\n",
       "      <td>4/18/22 18:47</td>\n",
       "      <td>40000</td>\n",
       "      <td>1</td>\n",
       "      <td>1</td>\n",
       "    </tr>\n",
       "  </tbody>\n",
       "</table>\n",
       "<p>126 rows × 4 columns</p>\n",
       "</div>"
      ],
      "text/plain": [
       "         Timestamp  How many jelly beans are in the vase?  \\\n",
       "0    4/18/22 23:29                                     12   \n",
       "1    4/18/22 17:45                                     17   \n",
       "2    4/18/22 21:24                                     20   \n",
       "3    4/18/22 17:35                                    100   \n",
       "4    4/18/22 20:46                                    128   \n",
       "..             ...                                    ...   \n",
       "121  4/19/22 16:10                                   5000   \n",
       "122  4/18/22 16:44                                   8325   \n",
       "123   4/19/22 5:00                                  10369   \n",
       "124  4/18/22 18:48                                  15300   \n",
       "125  4/18/22 18:47                                  40000   \n",
       "\n",
       "     To the nearest minute, how many minutes do you estimate you spent thinking before you decided on your guess?  \\\n",
       "0                                                    0                                                              \n",
       "1                                                    1                                                              \n",
       "2                                                    0                                                              \n",
       "3                                                    1                                                              \n",
       "4                                                    1                                                              \n",
       "..                                                 ...                                                              \n",
       "121                                                  2                                                              \n",
       "122                                                  0                                                              \n",
       "123                                                 17                                                              \n",
       "124                                                  5                                                              \n",
       "125                                                  1                                                              \n",
       "\n",
       "     On a scale of 1 to 5, with 1 being not confident at all and 5 being completely confident, how confident are you in your guess?  \n",
       "0                                                    5                                                                               \n",
       "1                                                    5                                                                               \n",
       "2                                                    1                                                                               \n",
       "3                                                    2                                                                               \n",
       "4                                                    1                                                                               \n",
       "..                                                 ...                                                                               \n",
       "121                                                  3                                                                               \n",
       "122                                                  3                                                                               \n",
       "123                                                  4                                                                               \n",
       "124                                                  2                                                                               \n",
       "125                                                  1                                                                               \n",
       "\n",
       "[126 rows x 4 columns]"
      ]
     },
     "execution_count": 2,
     "metadata": {},
     "output_type": "execute_result"
    }
   ],
   "source": [
    "jellybeans"
   ]
  },
  {
   "cell_type": "markdown",
   "id": "ecbeec68",
   "metadata": {},
   "source": [
    "## I. Data Cleaning\n",
    "\n",
    "The column names come directly from the survey and are long and cumbersome. To make these easier to work with, let's replace them with shorter labels."
   ]
  },
  {
   "cell_type": "code",
   "execution_count": 3,
   "id": "19c41740",
   "metadata": {},
   "outputs": [
    {
     "data": {
      "text/html": [
       "<div>\n",
       "<style scoped>\n",
       "    .dataframe tbody tr th:only-of-type {\n",
       "        vertical-align: middle;\n",
       "    }\n",
       "\n",
       "    .dataframe tbody tr th {\n",
       "        vertical-align: top;\n",
       "    }\n",
       "\n",
       "    .dataframe thead th {\n",
       "        text-align: right;\n",
       "    }\n",
       "</style>\n",
       "<table border=\"1\" class=\"dataframe\">\n",
       "  <thead>\n",
       "    <tr style=\"text-align: right;\">\n",
       "      <th></th>\n",
       "      <th>Timestamp</th>\n",
       "      <th>guess</th>\n",
       "      <th>time_spent_guessing</th>\n",
       "      <th>confidence_level</th>\n",
       "    </tr>\n",
       "  </thead>\n",
       "  <tbody>\n",
       "    <tr>\n",
       "      <th>0</th>\n",
       "      <td>4/18/22 23:29</td>\n",
       "      <td>12</td>\n",
       "      <td>0</td>\n",
       "      <td>5</td>\n",
       "    </tr>\n",
       "    <tr>\n",
       "      <th>1</th>\n",
       "      <td>4/18/22 17:45</td>\n",
       "      <td>17</td>\n",
       "      <td>1</td>\n",
       "      <td>5</td>\n",
       "    </tr>\n",
       "    <tr>\n",
       "      <th>2</th>\n",
       "      <td>4/18/22 21:24</td>\n",
       "      <td>20</td>\n",
       "      <td>0</td>\n",
       "      <td>1</td>\n",
       "    </tr>\n",
       "    <tr>\n",
       "      <th>3</th>\n",
       "      <td>4/18/22 17:35</td>\n",
       "      <td>100</td>\n",
       "      <td>1</td>\n",
       "      <td>2</td>\n",
       "    </tr>\n",
       "    <tr>\n",
       "      <th>4</th>\n",
       "      <td>4/18/22 20:46</td>\n",
       "      <td>128</td>\n",
       "      <td>1</td>\n",
       "      <td>1</td>\n",
       "    </tr>\n",
       "    <tr>\n",
       "      <th>...</th>\n",
       "      <td>...</td>\n",
       "      <td>...</td>\n",
       "      <td>...</td>\n",
       "      <td>...</td>\n",
       "    </tr>\n",
       "    <tr>\n",
       "      <th>121</th>\n",
       "      <td>4/19/22 16:10</td>\n",
       "      <td>5000</td>\n",
       "      <td>2</td>\n",
       "      <td>3</td>\n",
       "    </tr>\n",
       "    <tr>\n",
       "      <th>122</th>\n",
       "      <td>4/18/22 16:44</td>\n",
       "      <td>8325</td>\n",
       "      <td>0</td>\n",
       "      <td>3</td>\n",
       "    </tr>\n",
       "    <tr>\n",
       "      <th>123</th>\n",
       "      <td>4/19/22 5:00</td>\n",
       "      <td>10369</td>\n",
       "      <td>17</td>\n",
       "      <td>4</td>\n",
       "    </tr>\n",
       "    <tr>\n",
       "      <th>124</th>\n",
       "      <td>4/18/22 18:48</td>\n",
       "      <td>15300</td>\n",
       "      <td>5</td>\n",
       "      <td>2</td>\n",
       "    </tr>\n",
       "    <tr>\n",
       "      <th>125</th>\n",
       "      <td>4/18/22 18:47</td>\n",
       "      <td>40000</td>\n",
       "      <td>1</td>\n",
       "      <td>1</td>\n",
       "    </tr>\n",
       "  </tbody>\n",
       "</table>\n",
       "<p>126 rows × 4 columns</p>\n",
       "</div>"
      ],
      "text/plain": [
       "         Timestamp  guess  time_spent_guessing  confidence_level\n",
       "0    4/18/22 23:29     12                    0                 5\n",
       "1    4/18/22 17:45     17                    1                 5\n",
       "2    4/18/22 21:24     20                    0                 1\n",
       "3    4/18/22 17:35    100                    1                 2\n",
       "4    4/18/22 20:46    128                    1                 1\n",
       "..             ...    ...                  ...               ...\n",
       "121  4/19/22 16:10   5000                    2                 3\n",
       "122  4/18/22 16:44   8325                    0                 3\n",
       "123   4/19/22 5:00  10369                   17                 4\n",
       "124  4/18/22 18:48  15300                    5                 2\n",
       "125  4/18/22 18:47  40000                    1                 1\n",
       "\n",
       "[126 rows x 4 columns]"
      ]
     },
     "execution_count": 3,
     "metadata": {},
     "output_type": "execute_result"
    }
   ],
   "source": [
    "jellybeans.rename(columns = {'How many jelly beans are in the vase?':'guess',\n",
    "                             'To the nearest minute, how many minutes do you '\n",
    "                             'estimate you spent thinking before you decided on your guess?':\n",
    "                             'time_spent_guessing',\n",
    "                             'On a scale of 1 to 5, with 1 being not confident at all and 5 '\n",
    "                             'being completely confident, how confident are you in your guess?':\n",
    "                             'confidence_level'}, inplace=True)\n",
    "jellybeans"
   ]
  },
  {
   "cell_type": "markdown",
   "id": "cac827df",
   "metadata": {},
   "source": [
    "Let's check the data type of each column to ensure that it is a suitable type for analysis."
   ]
  },
  {
   "cell_type": "code",
   "execution_count": 4,
   "id": "d6c99e5f",
   "metadata": {},
   "outputs": [
    {
     "data": {
      "text/plain": [
       "Timestamp              object\n",
       "guess                   int64\n",
       "time_spent_guessing     int64\n",
       "confidence_level        int64\n",
       "dtype: object"
      ]
     },
     "execution_count": 4,
     "metadata": {},
     "output_type": "execute_result"
    }
   ],
   "source": [
    "jellybeans.dtypes"
   ]
  },
  {
   "cell_type": "markdown",
   "id": "7992723c",
   "metadata": {},
   "source": [
    "The data types for the columns we are interested in are all integers, so no changes are necessary."
   ]
  },
  {
   "cell_type": "markdown",
   "id": "48ef937d",
   "metadata": {},
   "source": [
    "## II. Exploratory Data Analysis\n",
    "\n",
    "To start, let's look at summary statistics for the data as a whole."
   ]
  },
  {
   "cell_type": "code",
   "execution_count": 5,
   "id": "d2d11b65",
   "metadata": {},
   "outputs": [
    {
     "data": {
      "text/html": [
       "<div>\n",
       "<style scoped>\n",
       "    .dataframe tbody tr th:only-of-type {\n",
       "        vertical-align: middle;\n",
       "    }\n",
       "\n",
       "    .dataframe tbody tr th {\n",
       "        vertical-align: top;\n",
       "    }\n",
       "\n",
       "    .dataframe thead th {\n",
       "        text-align: right;\n",
       "    }\n",
       "</style>\n",
       "<table border=\"1\" class=\"dataframe\">\n",
       "  <thead>\n",
       "    <tr style=\"text-align: right;\">\n",
       "      <th></th>\n",
       "      <th>guess</th>\n",
       "      <th>time_spent_guessing</th>\n",
       "      <th>confidence_level</th>\n",
       "    </tr>\n",
       "  </thead>\n",
       "  <tbody>\n",
       "    <tr>\n",
       "      <th>count</th>\n",
       "      <td>126.000000</td>\n",
       "      <td>126.000000</td>\n",
       "      <td>126.000000</td>\n",
       "    </tr>\n",
       "    <tr>\n",
       "      <th>mean</th>\n",
       "      <td>1538.492063</td>\n",
       "      <td>1.944444</td>\n",
       "      <td>2.738095</td>\n",
       "    </tr>\n",
       "    <tr>\n",
       "      <th>std</th>\n",
       "      <td>3907.943569</td>\n",
       "      <td>2.199293</td>\n",
       "      <td>1.005414</td>\n",
       "    </tr>\n",
       "    <tr>\n",
       "      <th>min</th>\n",
       "      <td>12.000000</td>\n",
       "      <td>0.000000</td>\n",
       "      <td>1.000000</td>\n",
       "    </tr>\n",
       "    <tr>\n",
       "      <th>25%</th>\n",
       "      <td>517.750000</td>\n",
       "      <td>1.000000</td>\n",
       "      <td>2.000000</td>\n",
       "    </tr>\n",
       "    <tr>\n",
       "      <th>50%</th>\n",
       "      <td>750.000000</td>\n",
       "      <td>1.000000</td>\n",
       "      <td>3.000000</td>\n",
       "    </tr>\n",
       "    <tr>\n",
       "      <th>75%</th>\n",
       "      <td>1333.250000</td>\n",
       "      <td>2.000000</td>\n",
       "      <td>3.000000</td>\n",
       "    </tr>\n",
       "    <tr>\n",
       "      <th>max</th>\n",
       "      <td>40000.000000</td>\n",
       "      <td>17.000000</td>\n",
       "      <td>5.000000</td>\n",
       "    </tr>\n",
       "  </tbody>\n",
       "</table>\n",
       "</div>"
      ],
      "text/plain": [
       "              guess  time_spent_guessing  confidence_level\n",
       "count    126.000000           126.000000        126.000000\n",
       "mean    1538.492063             1.944444          2.738095\n",
       "std     3907.943569             2.199293          1.005414\n",
       "min       12.000000             0.000000          1.000000\n",
       "25%      517.750000             1.000000          2.000000\n",
       "50%      750.000000             1.000000          3.000000\n",
       "75%     1333.250000             2.000000          3.000000\n",
       "max    40000.000000            17.000000          5.000000"
      ]
     },
     "execution_count": 5,
     "metadata": {},
     "output_type": "execute_result"
    }
   ],
   "source": [
    "jellybeans.describe()"
   ]
  },
  {
   "cell_type": "markdown",
   "id": "bc6d268b",
   "metadata": {},
   "source": [
    "The mean of all 126 estimates is about 1538, which is within 1% of the actual number of jelly beans. On its own, this is quite a remarkable result, especially because the lowest and highest guesses are so extreme that they may not be serious attempts to answer the survey truthfully. The median estimate is 750, which is more than 50% lower than both the mean and the actual number of jelly beans, indicating that the mean might be influenced by some of the extremely high guesses.\n",
    "\n",
    "The amount of time people say they spent thinking about their answers ranged from 0 minutes to 17 minutes, with a mean of about 2 minutes, a median of 1 minute, and a 75th percentile of 2 minutes. In retrospect, this survey question probably could have been better designed. For example, both people who made snap judgments and people who gave a full minute of thought could have reasonably interpreted that they supposed to respond to the question with 1 minute. And because many people did not spend more than 2 minutes thinking about a guess, the data is less granular than would be ideal. Thus, we will focus our attention on the guess and confidence_level columns instead.\n",
    "\n",
    "The confidence people had in their guesses ranged from 1 to 5, with mean of 2.74, a median of 3, and a 75th percentile of 3. This indicates that people tended to cluster around 3, with relatively few people having a confidence level higher than that. This makes intuitive sense because it is an estimation task, so we wouldn't expect many people to have complete confidence in their estimates.\n",
    "\n",
    "Next, let's visualize the distributions of guesses and confidence levels to get a better sense of the data. For the distribution of guesses, let's also plot a dashed line indicating where the actual number of jelly beans was."
   ]
  },
  {
   "cell_type": "code",
   "execution_count": 6,
   "id": "0feed488",
   "metadata": {},
   "outputs": [
    {
     "data": {
      "image/png": "[encoded data removed]",
      "text/plain": [
       "<Figure size 1080x360 with 1 Axes>"
      ]
     },
     "metadata": {},
     "output_type": "display_data"
    },
    {
     "data": {
      "image/png": "[encoded data removed]",
      "text/plain": [
       "<Figure size 1080x360 with 1 Axes>"
      ]
     },
     "metadata": {},
     "output_type": "display_data"
    }
   ],
   "source": [
    "sns.set_style('white')\n",
    "sns.set_palette('colorblind')\n",
    "\n",
    "#Plot a histogram of values of guess\n",
    "labels = ['Distribution of Guesses', 'Number of Jelly Beans']\n",
    "ef.eda_hist(jellybeans, 'guess', labels)\n",
    "\n",
    "#Add dashed line for actual number of jellybeans, with annotation and arrow\n",
    "plt.axvline(x = 1534, linestyle='--', color='black')\n",
    "plt.annotate('Actual number of jelly beans', xy=(1534, 25), xytext=(2500, 20),\n",
    "             arrowprops={'facecolor':'black', 'width':3}, backgroundcolor='white')\n",
    "plt.show()\n",
    "\n",
    "#Plot a histogram of values of confidence_level\n",
    "labels = ['Distribution of Confidence Level', 'Confidence Level (1 to 5)']\n",
    "ef.eda_hist(jellybeans, 'confidence_level', labels)\n",
    "plt.xticks([1, 2, 3, 4, 5])\n",
    "plt.show()"
   ]
  },
  {
   "cell_type": "markdown",
   "id": "96ba3f1e",
   "metadata": {},
   "source": [
    "These visualizations make the insights above much more clear. The distribution of guesses looks like it might be lognormal as would be predicted by Fechner's Law (see the [jellybeans notebook](https://github.com/tommcd09/jellybeans/blob/main/jellybeans.ipynb) for further discussion) [1-2]. We also get a better sense of how we might be able to group respondents by confidence level. We could group the confidence levels people had into 2 roughly equal bins--a \"more confident\" bin for levels 3 to 5 and a \"less confident\" bin for levels 1 and 2.\n",
    "\n",
    "Let's compute 2 new columns--one with natural log of each guess and one mapping the 5 confidence levels to 2 bins as described above."
   ]
  },
  {
   "cell_type": "code",
   "execution_count": 7,
   "id": "210ef76b",
   "metadata": {},
   "outputs": [
    {
     "data": {
      "text/html": [
       "<div>\n",
       "<style scoped>\n",
       "    .dataframe tbody tr th:only-of-type {\n",
       "        vertical-align: middle;\n",
       "    }\n",
       "\n",
       "    .dataframe tbody tr th {\n",
       "        vertical-align: top;\n",
       "    }\n",
       "\n",
       "    .dataframe thead th {\n",
       "        text-align: right;\n",
       "    }\n",
       "</style>\n",
       "<table border=\"1\" class=\"dataframe\">\n",
       "  <thead>\n",
       "    <tr style=\"text-align: right;\">\n",
       "      <th></th>\n",
       "      <th>Timestamp</th>\n",
       "      <th>guess</th>\n",
       "      <th>time_spent_guessing</th>\n",
       "      <th>confidence_level</th>\n",
       "      <th>log_guess</th>\n",
       "      <th>confident</th>\n",
       "    </tr>\n",
       "  </thead>\n",
       "  <tbody>\n",
       "    <tr>\n",
       "      <th>0</th>\n",
       "      <td>4/18/22 23:29</td>\n",
       "      <td>12</td>\n",
       "      <td>0</td>\n",
       "      <td>5</td>\n",
       "      <td>2.484907</td>\n",
       "      <td>More Confident</td>\n",
       "    </tr>\n",
       "    <tr>\n",
       "      <th>1</th>\n",
       "      <td>4/18/22 17:45</td>\n",
       "      <td>17</td>\n",
       "      <td>1</td>\n",
       "      <td>5</td>\n",
       "      <td>2.833213</td>\n",
       "      <td>More Confident</td>\n",
       "    </tr>\n",
       "    <tr>\n",
       "      <th>2</th>\n",
       "      <td>4/18/22 21:24</td>\n",
       "      <td>20</td>\n",
       "      <td>0</td>\n",
       "      <td>1</td>\n",
       "      <td>2.995732</td>\n",
       "      <td>Less Confident</td>\n",
       "    </tr>\n",
       "    <tr>\n",
       "      <th>3</th>\n",
       "      <td>4/18/22 17:35</td>\n",
       "      <td>100</td>\n",
       "      <td>1</td>\n",
       "      <td>2</td>\n",
       "      <td>4.605170</td>\n",
       "      <td>Less Confident</td>\n",
       "    </tr>\n",
       "    <tr>\n",
       "      <th>4</th>\n",
       "      <td>4/18/22 20:46</td>\n",
       "      <td>128</td>\n",
       "      <td>1</td>\n",
       "      <td>1</td>\n",
       "      <td>4.852030</td>\n",
       "      <td>Less Confident</td>\n",
       "    </tr>\n",
       "    <tr>\n",
       "      <th>...</th>\n",
       "      <td>...</td>\n",
       "      <td>...</td>\n",
       "      <td>...</td>\n",
       "      <td>...</td>\n",
       "      <td>...</td>\n",
       "      <td>...</td>\n",
       "    </tr>\n",
       "    <tr>\n",
       "      <th>121</th>\n",
       "      <td>4/19/22 16:10</td>\n",
       "      <td>5000</td>\n",
       "      <td>2</td>\n",
       "      <td>3</td>\n",
       "      <td>8.517193</td>\n",
       "      <td>More Confident</td>\n",
       "    </tr>\n",
       "    <tr>\n",
       "      <th>122</th>\n",
       "      <td>4/18/22 16:44</td>\n",
       "      <td>8325</td>\n",
       "      <td>0</td>\n",
       "      <td>3</td>\n",
       "      <td>9.027018</td>\n",
       "      <td>More Confident</td>\n",
       "    </tr>\n",
       "    <tr>\n",
       "      <th>123</th>\n",
       "      <td>4/19/22 5:00</td>\n",
       "      <td>10369</td>\n",
       "      <td>17</td>\n",
       "      <td>4</td>\n",
       "      <td>9.246576</td>\n",
       "      <td>More Confident</td>\n",
       "    </tr>\n",
       "    <tr>\n",
       "      <th>124</th>\n",
       "      <td>4/18/22 18:48</td>\n",
       "      <td>15300</td>\n",
       "      <td>5</td>\n",
       "      <td>2</td>\n",
       "      <td>9.635608</td>\n",
       "      <td>Less Confident</td>\n",
       "    </tr>\n",
       "    <tr>\n",
       "      <th>125</th>\n",
       "      <td>4/18/22 18:47</td>\n",
       "      <td>40000</td>\n",
       "      <td>1</td>\n",
       "      <td>1</td>\n",
       "      <td>10.596635</td>\n",
       "      <td>Less Confident</td>\n",
       "    </tr>\n",
       "  </tbody>\n",
       "</table>\n",
       "<p>126 rows × 6 columns</p>\n",
       "</div>"
      ],
      "text/plain": [
       "         Timestamp  guess  time_spent_guessing  confidence_level  log_guess  \\\n",
       "0    4/18/22 23:29     12                    0                 5   2.484907   \n",
       "1    4/18/22 17:45     17                    1                 5   2.833213   \n",
       "2    4/18/22 21:24     20                    0                 1   2.995732   \n",
       "3    4/18/22 17:35    100                    1                 2   4.605170   \n",
       "4    4/18/22 20:46    128                    1                 1   4.852030   \n",
       "..             ...    ...                  ...               ...        ...   \n",
       "121  4/19/22 16:10   5000                    2                 3   8.517193   \n",
       "122  4/18/22 16:44   8325                    0                 3   9.027018   \n",
       "123   4/19/22 5:00  10369                   17                 4   9.246576   \n",
       "124  4/18/22 18:48  15300                    5                 2   9.635608   \n",
       "125  4/18/22 18:47  40000                    1                 1  10.596635   \n",
       "\n",
       "          confident  \n",
       "0    More Confident  \n",
       "1    More Confident  \n",
       "2    Less Confident  \n",
       "3    Less Confident  \n",
       "4    Less Confident  \n",
       "..              ...  \n",
       "121  More Confident  \n",
       "122  More Confident  \n",
       "123  More Confident  \n",
       "124  Less Confident  \n",
       "125  Less Confident  \n",
       "\n",
       "[126 rows x 6 columns]"
      ]
     },
     "execution_count": 7,
     "metadata": {},
     "output_type": "execute_result"
    }
   ],
   "source": [
    "jellybeans['log_guess'] = np.log(jellybeans['guess'].values)\n",
    "jellybeans['confident'] = jellybeans['confidence_level'].map({5:'More Confident',\n",
    "                                                              4:'More Confident',\n",
    "                                                              3:'More Confident',\n",
    "                                                              2:'Less Confident',\n",
    "                                                              1:'Less Confident'})\n",
    "jellybeans"
   ]
  },
  {
   "cell_type": "markdown",
   "id": "82642966",
   "metadata": {},
   "source": [
    "Let's view the distribution of log_guess in a histogram to see if it looks like a normal distribution."
   ]
  },
  {
   "cell_type": "code",
   "execution_count": 8,
   "id": "de6adc72",
   "metadata": {},
   "outputs": [
    {
     "data": {
      "image/png": "[encoded data removed]",
      "text/plain": [
       "<Figure size 1080x360 with 1 Axes>"
      ]
     },
     "metadata": {},
     "output_type": "display_data"
    }
   ],
   "source": [
    "#Plot a histogram of values of log_guess\n",
    "labels = ['Distribution of Log of Guesses', 'Log of Number of Jelly Beans']\n",
    "ef.eda_hist(jellybeans, 'log_guess', labels)\n",
    "\n",
    "#Add dashed line for the natural log of actual number of jellybeans, with annotation and arrow\n",
    "plt.axvline(x = np.log(1534), linestyle='--', color='black')\n",
    "plt.annotate('Log of actual number of jelly beans', xy=(np.log(1534), 25),\n",
    "             xytext=(np.log(2000), 22), arrowprops={'facecolor':'black', 'width':3},\n",
    "             backgroundcolor='white')\n",
    "plt.show()"
   ]
  },
  {
   "cell_type": "markdown",
   "id": "57a5d2f5",
   "metadata": {},
   "source": [
    "This looks much closer to a normal distribution, though there are long tails. We can explore how close the log transformed data is to a normal distribution by plotting it in a quantile-quantile (Q-Q) plot. A Q-Q plot plots theoretical quantiles from one distribution against sample quantiles from the data. If both sets of quantiles come from the same distribution, the points should conform to a straight line, represented here in red [3]. In the plot below, we plot the standardized log_guess data against a standard normal distribution."
   ]
  },
  {
   "cell_type": "code",
   "execution_count": 9,
   "id": "564ba849",
   "metadata": {},
   "outputs": [
    {
     "data": {
      "image/png": "[encoded data removed]",
      "text/plain": [
       "<Figure size 432x288 with 1 Axes>"
      ]
     },
     "metadata": {},
     "output_type": "display_data"
    }
   ],
   "source": [
    "qqplot(jellybeans['log_guess'], fit=True, line='45')\n",
    "plt.title('Q-Q Plot of Log of Guesses Against Normal Distribution')\n",
    "plt.show()"
   ]
  },
  {
   "cell_type": "markdown",
   "id": "31c81777",
   "metadata": {},
   "source": [
    "The data is fairly close to a normal distribution except for some extreme points on either end. These are likely some of the extreme guess values that we saw earlier.\n",
    "\n",
    "Let's group the guess column by the confident column to see if we can identify any differences between more and less confident guessers."
   ]
  },
  {
   "cell_type": "code",
   "execution_count": 10,
   "id": "8521c3ae",
   "metadata": {},
   "outputs": [
    {
     "data": {
      "text/html": [
       "<div>\n",
       "<style scoped>\n",
       "    .dataframe tbody tr th:only-of-type {\n",
       "        vertical-align: middle;\n",
       "    }\n",
       "\n",
       "    .dataframe tbody tr th {\n",
       "        vertical-align: top;\n",
       "    }\n",
       "\n",
       "    .dataframe thead tr th {\n",
       "        text-align: left;\n",
       "    }\n",
       "\n",
       "    .dataframe thead tr:last-of-type th {\n",
       "        text-align: right;\n",
       "    }\n",
       "</style>\n",
       "<table border=\"1\" class=\"dataframe\">\n",
       "  <thead>\n",
       "    <tr>\n",
       "      <th></th>\n",
       "      <th colspan=\"8\" halign=\"left\">guess</th>\n",
       "    </tr>\n",
       "    <tr>\n",
       "      <th></th>\n",
       "      <th>count</th>\n",
       "      <th>mean</th>\n",
       "      <th>std</th>\n",
       "      <th>min</th>\n",
       "      <th>25%</th>\n",
       "      <th>50%</th>\n",
       "      <th>75%</th>\n",
       "      <th>max</th>\n",
       "    </tr>\n",
       "    <tr>\n",
       "      <th>confident</th>\n",
       "      <th></th>\n",
       "      <th></th>\n",
       "      <th></th>\n",
       "      <th></th>\n",
       "      <th></th>\n",
       "      <th></th>\n",
       "      <th></th>\n",
       "      <th></th>\n",
       "    </tr>\n",
       "  </thead>\n",
       "  <tbody>\n",
       "    <tr>\n",
       "      <th>Less Confident</th>\n",
       "      <td>51.0</td>\n",
       "      <td>1839.019608</td>\n",
       "      <td>5846.519130</td>\n",
       "      <td>20.0</td>\n",
       "      <td>481.5</td>\n",
       "      <td>671.0</td>\n",
       "      <td>914.5</td>\n",
       "      <td>40000.0</td>\n",
       "    </tr>\n",
       "    <tr>\n",
       "      <th>More Confident</th>\n",
       "      <td>75.0</td>\n",
       "      <td>1334.133333</td>\n",
       "      <td>1611.509393</td>\n",
       "      <td>12.0</td>\n",
       "      <td>526.0</td>\n",
       "      <td>853.0</td>\n",
       "      <td>1459.5</td>\n",
       "      <td>10369.0</td>\n",
       "    </tr>\n",
       "  </tbody>\n",
       "</table>\n",
       "</div>"
      ],
      "text/plain": [
       "               guess                                                        \\\n",
       "               count         mean          std   min    25%    50%     75%   \n",
       "confident                                                                    \n",
       "Less Confident  51.0  1839.019608  5846.519130  20.0  481.5  671.0   914.5   \n",
       "More Confident  75.0  1334.133333  1611.509393  12.0  526.0  853.0  1459.5   \n",
       "\n",
       "                         \n",
       "                    max  \n",
       "confident                \n",
       "Less Confident  40000.0  \n",
       "More Confident  10369.0  "
      ]
     },
     "execution_count": 10,
     "metadata": {},
     "output_type": "execute_result"
    }
   ],
   "source": [
    "jellybeans[['guess', 'confident']].groupby('confident').describe()"
   ]
  },
  {
   "cell_type": "markdown",
   "id": "a9789a95",
   "metadata": {},
   "source": [
    "The mean for less confident guessers is higher than the actual number of jelly beans by about 305, while the mean for more confident guessers is lower than the actual number by about 200. However, the data for less confident guessers has more extreme values on the higher end, which is likely influencing the mean. The median for less confident guessers is actually lower than the median for more confident guessers. This might indicate that more confident guessers were slightly better at guessing the actual number of jelly beans, though both groups were still quite a bit off the actual number.\n",
    "\n",
    "Let's visualize the distribution of log_guess grouped by confidence level. This will be a bit harder to read as a histogram, so let's instead plot it as a KDE plot."
   ]
  },
  {
   "cell_type": "code",
   "execution_count": 11,
   "id": "e4ec641b",
   "metadata": {},
   "outputs": [
    {
     "data": {
      "image/png": "[encoded data removed]",
      "text/plain": [
       "<Figure size 1080x360 with 1 Axes>"
      ]
     },
     "metadata": {},
     "output_type": "display_data"
    }
   ],
   "source": [
    "#Plot a KDE plot of values of log_guess grouped by level of confident\n",
    "labels = ['Distribution of Log of Guesses', 'Log of Number of Jelly Beans']\n",
    "ef.eda_kde(jellybeans, 'log_guess', labels, hue='confident')\n",
    "\n",
    "#Add dashed line for the natural log of actual number of jellybeans, with annotation and arrow\n",
    "plt.axvline(x = np.log(1534), linestyle='--', color='black')\n",
    "plt.annotate('Log of actual number of jelly beans', xy=(np.log(1534), 0.25),\n",
    "             xytext=(np.log(2000), 0.23), arrowprops={'facecolor':'black', 'width':3},\n",
    "             backgroundcolor='white')\n",
    "plt.show()"
   ]
  },
  {
   "cell_type": "markdown",
   "id": "52ec2ecf",
   "metadata": {},
   "source": [
    "This visualization makes the patterns in the two groups more clear. The guesses of more confident guessers appear to be generally higher than those of less confident guessers, though less confident guessers are more spread out and both groups are still quite a bit lower than the correct answer.\n",
    "\n",
    "At this point, we can see two competing and potentially interesting stories going on here. On the one hand, the mean, which is being influenced by the extreme values in the data set, is remarkably close to the correct answer. If we were to take this example as being representative of all instances where people are performing estimation tasks, then we would perhaps conclude that these extreme values are actually contributing valuable information to the collective wisdom of crowds, and their absence actually makes crowds less wise. However, this is just one instance of a certain subset of people performing an estimation task. So, without performing this experiment many more times under a variety of conditions, it is hard to tell if this result is just a coincidence. If we assume that the extreme guesses we see on either end of the distribution are non-serious or joke guesses, then the result is probably a coincidence because the values of these guesses are arbitrary, aside from being extremely large or extremely small.\n",
    "\n",
    "The other competing story, and one that seems more plausible, is that the median, which is not as influenced by extreme values, is quite a bit lower than the actual number of jelly beans, though more confident people seem to be a bit closer to the actual value. We therefore might believe that the extreme values in our data are simply noise from people who are not answering the survey seriously, and that the median is actually the better indicator of how the crowd is guessing on this estimation task. Moreover, more confident guessers appear to be a bit more accurate, though we would need to perform hypothesis tests to confirm this.\n",
    "\n",
    "Up to this point, we have been looking at all of the data. Let's take a closer look at the outliers. There are many ways that outliers get defined in research [4], but for our purposes we can think of outliers as being guess values that are extremely large or small compared to the rest of the data. There are multiple ways to identify outliers [4-5], but one way that would work well for this experiment is to use the Tukey box plot method. We define an inner fence at 1.5 times the interquartile range on the upper and lower ends and an outer fence at 3 times the interquartile range on the upper and lower ends. Any points between the inner and outer fences are considered \"possible outliers\" and any points beyond the outer fence are considered \"probable outliers\". Some of the advantages of this test are that it is relatively robust to outliers (i.e., finding one outlier is independent of other outliers) and that it does not require a normal distribution of data [5]. We will use a function from a wonderful [blog post](https://towardsdatascience.com/detecting-and-treating-outliers-in-python-part-1-4ece5098b755) by Alicia Horsch to perform this task [5]. Because the data appears to follow a lognormal distribution, we will perform the function on the log_guess column."
   ]
  },
  {
   "cell_type": "code",
   "execution_count": 12,
   "id": "7094dc0d",
   "metadata": {},
   "outputs": [],
   "source": [
    "outliers_prob, outliers_poss = ef.tukey(jellybeans, 'log_guess')"
   ]
  },
  {
   "cell_type": "markdown",
   "id": "1c3add21",
   "metadata": {},
   "source": [
    "Let's look at the probable outliers..."
   ]
  },
  {
   "cell_type": "code",
   "execution_count": 13,
   "id": "b7409db8",
   "metadata": {},
   "outputs": [
    {
     "data": {
      "text/html": [
       "<div>\n",
       "<style scoped>\n",
       "    .dataframe tbody tr th:only-of-type {\n",
       "        vertical-align: middle;\n",
       "    }\n",
       "\n",
       "    .dataframe tbody tr th {\n",
       "        vertical-align: top;\n",
       "    }\n",
       "\n",
       "    .dataframe thead th {\n",
       "        text-align: right;\n",
       "    }\n",
       "</style>\n",
       "<table border=\"1\" class=\"dataframe\">\n",
       "  <thead>\n",
       "    <tr style=\"text-align: right;\">\n",
       "      <th></th>\n",
       "      <th>Timestamp</th>\n",
       "      <th>guess</th>\n",
       "      <th>time_spent_guessing</th>\n",
       "      <th>confidence_level</th>\n",
       "      <th>log_guess</th>\n",
       "      <th>confident</th>\n",
       "    </tr>\n",
       "  </thead>\n",
       "  <tbody>\n",
       "    <tr>\n",
       "      <th>0</th>\n",
       "      <td>4/18/22 23:29</td>\n",
       "      <td>12</td>\n",
       "      <td>0</td>\n",
       "      <td>5</td>\n",
       "      <td>2.484907</td>\n",
       "      <td>More Confident</td>\n",
       "    </tr>\n",
       "    <tr>\n",
       "      <th>1</th>\n",
       "      <td>4/18/22 17:45</td>\n",
       "      <td>17</td>\n",
       "      <td>1</td>\n",
       "      <td>5</td>\n",
       "      <td>2.833213</td>\n",
       "      <td>More Confident</td>\n",
       "    </tr>\n",
       "    <tr>\n",
       "      <th>2</th>\n",
       "      <td>4/18/22 21:24</td>\n",
       "      <td>20</td>\n",
       "      <td>0</td>\n",
       "      <td>1</td>\n",
       "      <td>2.995732</td>\n",
       "      <td>Less Confident</td>\n",
       "    </tr>\n",
       "    <tr>\n",
       "      <th>125</th>\n",
       "      <td>4/18/22 18:47</td>\n",
       "      <td>40000</td>\n",
       "      <td>1</td>\n",
       "      <td>1</td>\n",
       "      <td>10.596635</td>\n",
       "      <td>Less Confident</td>\n",
       "    </tr>\n",
       "  </tbody>\n",
       "</table>\n",
       "</div>"
      ],
      "text/plain": [
       "         Timestamp  guess  time_spent_guessing  confidence_level  log_guess  \\\n",
       "0    4/18/22 23:29     12                    0                 5   2.484907   \n",
       "1    4/18/22 17:45     17                    1                 5   2.833213   \n",
       "2    4/18/22 21:24     20                    0                 1   2.995732   \n",
       "125  4/18/22 18:47  40000                    1                 1  10.596635   \n",
       "\n",
       "          confident  \n",
       "0    More Confident  \n",
       "1    More Confident  \n",
       "2    Less Confident  \n",
       "125  Less Confident  "
      ]
     },
     "execution_count": 13,
     "metadata": {},
     "output_type": "execute_result"
    }
   ],
   "source": [
    "jellybeans.iloc[outliers_prob]"
   ]
  },
  {
   "cell_type": "markdown",
   "id": "86100cab",
   "metadata": {},
   "source": [
    "...and the possible outliers."
   ]
  },
  {
   "cell_type": "code",
   "execution_count": 14,
   "id": "94036358",
   "metadata": {},
   "outputs": [
    {
     "data": {
      "text/html": [
       "<div>\n",
       "<style scoped>\n",
       "    .dataframe tbody tr th:only-of-type {\n",
       "        vertical-align: middle;\n",
       "    }\n",
       "\n",
       "    .dataframe tbody tr th {\n",
       "        vertical-align: top;\n",
       "    }\n",
       "\n",
       "    .dataframe thead th {\n",
       "        text-align: right;\n",
       "    }\n",
       "</style>\n",
       "<table border=\"1\" class=\"dataframe\">\n",
       "  <thead>\n",
       "    <tr style=\"text-align: right;\">\n",
       "      <th></th>\n",
       "      <th>Timestamp</th>\n",
       "      <th>guess</th>\n",
       "      <th>time_spent_guessing</th>\n",
       "      <th>confidence_level</th>\n",
       "      <th>log_guess</th>\n",
       "      <th>confident</th>\n",
       "    </tr>\n",
       "  </thead>\n",
       "  <tbody>\n",
       "    <tr>\n",
       "      <th>3</th>\n",
       "      <td>4/18/22 17:35</td>\n",
       "      <td>100</td>\n",
       "      <td>1</td>\n",
       "      <td>2</td>\n",
       "      <td>4.605170</td>\n",
       "      <td>Less Confident</td>\n",
       "    </tr>\n",
       "    <tr>\n",
       "      <th>122</th>\n",
       "      <td>4/18/22 16:44</td>\n",
       "      <td>8325</td>\n",
       "      <td>0</td>\n",
       "      <td>3</td>\n",
       "      <td>9.027018</td>\n",
       "      <td>More Confident</td>\n",
       "    </tr>\n",
       "    <tr>\n",
       "      <th>123</th>\n",
       "      <td>4/19/22 5:00</td>\n",
       "      <td>10369</td>\n",
       "      <td>17</td>\n",
       "      <td>4</td>\n",
       "      <td>9.246576</td>\n",
       "      <td>More Confident</td>\n",
       "    </tr>\n",
       "    <tr>\n",
       "      <th>124</th>\n",
       "      <td>4/18/22 18:48</td>\n",
       "      <td>15300</td>\n",
       "      <td>5</td>\n",
       "      <td>2</td>\n",
       "      <td>9.635608</td>\n",
       "      <td>Less Confident</td>\n",
       "    </tr>\n",
       "  </tbody>\n",
       "</table>\n",
       "</div>"
      ],
      "text/plain": [
       "         Timestamp  guess  time_spent_guessing  confidence_level  log_guess  \\\n",
       "3    4/18/22 17:35    100                    1                 2   4.605170   \n",
       "122  4/18/22 16:44   8325                    0                 3   9.027018   \n",
       "123   4/19/22 5:00  10369                   17                 4   9.246576   \n",
       "124  4/18/22 18:48  15300                    5                 2   9.635608   \n",
       "\n",
       "          confident  \n",
       "3    Less Confident  \n",
       "122  More Confident  \n",
       "123  More Confident  \n",
       "124  Less Confident  "
      ]
     },
     "execution_count": 14,
     "metadata": {},
     "output_type": "execute_result"
    }
   ],
   "source": [
    "jellybeans.iloc[outliers_poss]"
   ]
  },
  {
   "cell_type": "markdown",
   "id": "91781fa0",
   "metadata": {},
   "source": [
    "It is difficult to believe that any of the guesses in these two sets of outliers are serious attempts to answer the survey. More than 100 jelly beans can be easily counted in the photos of the vase, and it seems ridiculous that the vase could hold over 8000 jelly beans, let alone 40,000. The idea that these are not serious guesses is corroborated by unusual values in the other columns. For example, the confidence_level values for all the probable outliers are either 1 or 5, and the possible outliers list also includes some extremely high values for time_spent_guessing.\n",
    "\n",
    "Once outliers are identified, we could, among other things [4], keep them [4,6], drop them [4,6], recode them with a different value [4,6], transform our data to reduce their impact [4,7-8], or use a different method or model to analyze the data that is more robust to outliers [4,7-8]. As a general rule, we should not drop or alter outliers without a good objective reason, and we should not drop or alter them simply because they do not fit the general trend of our data [9]. In fact, outliers might contain interesting and useful knowledge about the phenomenon being studied [4]. If we could show that any outliers were actually the result of error, or are not a part of the population of interest in our experiment, that would be a good reason to drop or alter them [4,9].\n",
    "\n",
    "We have already performed a log transformation on the data and there are still extreme values. And while we might think that these are not helpful to us in understanding how people are performing the estimation task, it doesn't necessarily follow that these are errors, or that they are not part of the population of interest in our experiment. This particular estimation task might be more susceptible to people making non-serious guesses because there is no prize or other incentive to guess correctly, but even if a prize or other incentive were available, it is reasonable to think that there would still be some non-serious guesses amongst a group of guesses in most other settings. Thus, there isn't a compelling reason to alter or remove these points from the data outright.\n",
    "\n",
    "However, we could still minimize the influence of these points in our analysis through our choice of methods if we believe these points ought to not have as much weight. For example, we could perform hypothesis tests on the median, rather than the mean, of each group. Therefore, before we move on to performing tests on the data, let's take a closer look at the data without the outliers to get a better sense of it. First, let's create another DataFrame without the outliers."
   ]
  },
  {
   "cell_type": "code",
   "execution_count": 15,
   "id": "13bf8486",
   "metadata": {},
   "outputs": [],
   "source": [
    "outliers = pd.concat([outliers_prob, outliers_poss])\n",
    "jellybeans_trimmed = jellybeans.drop(outliers)"
   ]
  },
  {
   "cell_type": "markdown",
   "id": "84092095",
   "metadata": {},
   "source": [
    "Now let's look at summary statistics for the data without outliers..."
   ]
  },
  {
   "cell_type": "code",
   "execution_count": 16,
   "id": "04e50d9f",
   "metadata": {},
   "outputs": [
    {
     "data": {
      "text/html": [
       "<div>\n",
       "<style scoped>\n",
       "    .dataframe tbody tr th:only-of-type {\n",
       "        vertical-align: middle;\n",
       "    }\n",
       "\n",
       "    .dataframe tbody tr th {\n",
       "        vertical-align: top;\n",
       "    }\n",
       "\n",
       "    .dataframe thead th {\n",
       "        text-align: right;\n",
       "    }\n",
       "</style>\n",
       "<table border=\"1\" class=\"dataframe\">\n",
       "  <thead>\n",
       "    <tr style=\"text-align: right;\">\n",
       "      <th></th>\n",
       "      <th>guess</th>\n",
       "      <th>time_spent_guessing</th>\n",
       "      <th>confidence_level</th>\n",
       "      <th>log_guess</th>\n",
       "    </tr>\n",
       "  </thead>\n",
       "  <tbody>\n",
       "    <tr>\n",
       "      <th>count</th>\n",
       "      <td>118.000000</td>\n",
       "      <td>118.000000</td>\n",
       "      <td>118.000000</td>\n",
       "      <td>118.000000</td>\n",
       "    </tr>\n",
       "    <tr>\n",
       "      <th>mean</th>\n",
       "      <td>1014.466102</td>\n",
       "      <td>1.864407</td>\n",
       "      <td>2.728814</td>\n",
       "      <td>6.673335</td>\n",
       "    </tr>\n",
       "    <tr>\n",
       "      <th>std</th>\n",
       "      <td>799.990606</td>\n",
       "      <td>1.739021</td>\n",
       "      <td>0.957749</td>\n",
       "      <td>0.705758</td>\n",
       "    </tr>\n",
       "    <tr>\n",
       "      <th>min</th>\n",
       "      <td>128.000000</td>\n",
       "      <td>0.000000</td>\n",
       "      <td>1.000000</td>\n",
       "      <td>4.852030</td>\n",
       "    </tr>\n",
       "    <tr>\n",
       "      <th>25%</th>\n",
       "      <td>520.500000</td>\n",
       "      <td>1.000000</td>\n",
       "      <td>2.000000</td>\n",
       "      <td>6.254789</td>\n",
       "    </tr>\n",
       "    <tr>\n",
       "      <th>50%</th>\n",
       "      <td>750.000000</td>\n",
       "      <td>1.000000</td>\n",
       "      <td>3.000000</td>\n",
       "      <td>6.620073</td>\n",
       "    </tr>\n",
       "    <tr>\n",
       "      <th>75%</th>\n",
       "      <td>1236.000000</td>\n",
       "      <td>2.000000</td>\n",
       "      <td>3.000000</td>\n",
       "      <td>7.119492</td>\n",
       "    </tr>\n",
       "    <tr>\n",
       "      <th>max</th>\n",
       "      <td>5000.000000</td>\n",
       "      <td>12.000000</td>\n",
       "      <td>5.000000</td>\n",
       "      <td>8.517193</td>\n",
       "    </tr>\n",
       "  </tbody>\n",
       "</table>\n",
       "</div>"
      ],
      "text/plain": [
       "             guess  time_spent_guessing  confidence_level   log_guess\n",
       "count   118.000000           118.000000        118.000000  118.000000\n",
       "mean   1014.466102             1.864407          2.728814    6.673335\n",
       "std     799.990606             1.739021          0.957749    0.705758\n",
       "min     128.000000             0.000000          1.000000    4.852030\n",
       "25%     520.500000             1.000000          2.000000    6.254789\n",
       "50%     750.000000             1.000000          3.000000    6.620073\n",
       "75%    1236.000000             2.000000          3.000000    7.119492\n",
       "max    5000.000000            12.000000          5.000000    8.517193"
      ]
     },
     "execution_count": 16,
     "metadata": {},
     "output_type": "execute_result"
    }
   ],
   "source": [
    "jellybeans_trimmed.describe()"
   ]
  },
  {
   "cell_type": "markdown",
   "id": "597087c5",
   "metadata": {},
   "source": [
    "...and compare these to the summary statistics of the full data."
   ]
  },
  {
   "cell_type": "code",
   "execution_count": 17,
   "id": "2276214e",
   "metadata": {},
   "outputs": [
    {
     "data": {
      "text/html": [
       "<div>\n",
       "<style scoped>\n",
       "    .dataframe tbody tr th:only-of-type {\n",
       "        vertical-align: middle;\n",
       "    }\n",
       "\n",
       "    .dataframe tbody tr th {\n",
       "        vertical-align: top;\n",
       "    }\n",
       "\n",
       "    .dataframe thead th {\n",
       "        text-align: right;\n",
       "    }\n",
       "</style>\n",
       "<table border=\"1\" class=\"dataframe\">\n",
       "  <thead>\n",
       "    <tr style=\"text-align: right;\">\n",
       "      <th></th>\n",
       "      <th>guess</th>\n",
       "      <th>time_spent_guessing</th>\n",
       "      <th>confidence_level</th>\n",
       "      <th>log_guess</th>\n",
       "    </tr>\n",
       "  </thead>\n",
       "  <tbody>\n",
       "    <tr>\n",
       "      <th>count</th>\n",
       "      <td>126.000000</td>\n",
       "      <td>126.000000</td>\n",
       "      <td>126.000000</td>\n",
       "      <td>126.000000</td>\n",
       "    </tr>\n",
       "    <tr>\n",
       "      <th>mean</th>\n",
       "      <td>1538.492063</td>\n",
       "      <td>1.944444</td>\n",
       "      <td>2.738095</td>\n",
       "      <td>6.657765</td>\n",
       "    </tr>\n",
       "    <tr>\n",
       "      <th>std</th>\n",
       "      <td>3907.943569</td>\n",
       "      <td>2.199293</td>\n",
       "      <td>1.005414</td>\n",
       "      <td>1.075795</td>\n",
       "    </tr>\n",
       "    <tr>\n",
       "      <th>min</th>\n",
       "      <td>12.000000</td>\n",
       "      <td>0.000000</td>\n",
       "      <td>1.000000</td>\n",
       "      <td>2.484907</td>\n",
       "    </tr>\n",
       "    <tr>\n",
       "      <th>25%</th>\n",
       "      <td>517.750000</td>\n",
       "      <td>1.000000</td>\n",
       "      <td>2.000000</td>\n",
       "      <td>6.249489</td>\n",
       "    </tr>\n",
       "    <tr>\n",
       "      <th>50%</th>\n",
       "      <td>750.000000</td>\n",
       "      <td>1.000000</td>\n",
       "      <td>3.000000</td>\n",
       "      <td>6.620073</td>\n",
       "    </tr>\n",
       "    <tr>\n",
       "      <th>75%</th>\n",
       "      <td>1333.250000</td>\n",
       "      <td>2.000000</td>\n",
       "      <td>3.000000</td>\n",
       "      <td>7.195336</td>\n",
       "    </tr>\n",
       "    <tr>\n",
       "      <th>max</th>\n",
       "      <td>40000.000000</td>\n",
       "      <td>17.000000</td>\n",
       "      <td>5.000000</td>\n",
       "      <td>10.596635</td>\n",
       "    </tr>\n",
       "  </tbody>\n",
       "</table>\n",
       "</div>"
      ],
      "text/plain": [
       "              guess  time_spent_guessing  confidence_level   log_guess\n",
       "count    126.000000           126.000000        126.000000  126.000000\n",
       "mean    1538.492063             1.944444          2.738095    6.657765\n",
       "std     3907.943569             2.199293          1.005414    1.075795\n",
       "min       12.000000             0.000000          1.000000    2.484907\n",
       "25%      517.750000             1.000000          2.000000    6.249489\n",
       "50%      750.000000             1.000000          3.000000    6.620073\n",
       "75%     1333.250000             2.000000          3.000000    7.195336\n",
       "max    40000.000000            17.000000          5.000000   10.596635"
      ]
     },
     "execution_count": 17,
     "metadata": {},
     "output_type": "execute_result"
    }
   ],
   "source": [
    "jellybeans.describe()"
   ]
  },
  {
   "cell_type": "markdown",
   "id": "01907a1e",
   "metadata": {},
   "source": [
    "We can see a few interesting observations about the data with and without outliers:\n",
    "\n",
    "* The mean guess for the data without outliers is much lower and much closer to the median, indicating that extremely high values are indeed influencing the mean.\n",
    "* The range and standard deviation of the guess data without outliers is much narrower, as would be expected.\n",
    "* The confidence_level column is barely affected by removing the guess outliers. The mean and standard deviation are almost the same, and the percentiles are the same.\n",
    "* The median guess is exactly the same with and without outliers.\n",
    "\n",
    "As before, let's visualize the distribution of guesses and confidence levels without outliers."
   ]
  },
  {
   "cell_type": "code",
   "execution_count": 18,
   "id": "096bce26",
   "metadata": {},
   "outputs": [
    {
     "data": {
      "image/png": "[encoded data removed]",
      "text/plain": [
       "<Figure size 1080x360 with 1 Axes>"
      ]
     },
     "metadata": {},
     "output_type": "display_data"
    },
    {
     "data": {
      "image/png": "[encoded data removed]",
      "text/plain": [
       "<Figure size 1080x360 with 1 Axes>"
      ]
     },
     "metadata": {},
     "output_type": "display_data"
    }
   ],
   "source": [
    "#Plot a histogram of values of guess\n",
    "labels = ['Distribution of Guesses', 'Number of Jelly Beans']\n",
    "ef.eda_hist(jellybeans_trimmed, 'guess', labels)\n",
    "\n",
    "#Add dashed line for actual number of jellybeans, with annotation and arrow\n",
    "plt.axvline(x = 1534, linestyle='--', color='black')\n",
    "plt.annotate('Actual number of jelly beans', xy=(1534, 25), xytext=(2000, 22),\n",
    "             arrowprops={'facecolor':'black', 'width':3}, backgroundcolor='white')\n",
    "plt.show()\n",
    "\n",
    "#Plot a histogram of values of confidence_level\n",
    "labels = ['Distribution of Confidence Level', 'Confidence Level (1 to 5)']\n",
    "ef.eda_hist(jellybeans_trimmed, 'confidence_level', labels)\n",
    "plt.xticks([1, 2, 3, 4, 5])\n",
    "plt.show()"
   ]
  },
  {
   "cell_type": "markdown",
   "id": "fbe87198",
   "metadata": {},
   "source": [
    "The distribution of guesses now looks much closer to a true lognormal distribution, and the distribution of confidence levels is almost the same with and without the guess outliers.\n",
    "\n",
    "Let's also visualize the the distribution of log_guess without outliers."
   ]
  },
  {
   "cell_type": "code",
   "execution_count": 19,
   "id": "9d7250fd",
   "metadata": {},
   "outputs": [
    {
     "data": {
      "image/png": "[encoded data removed]",
      "text/plain": [
       "<Figure size 1080x360 with 1 Axes>"
      ]
     },
     "metadata": {},
     "output_type": "display_data"
    }
   ],
   "source": [
    "#Plot a histogram of values of log_guess\n",
    "labels = ['Distribution of Log of Guesses', 'Log of Number of Jelly Beans']\n",
    "ef.eda_hist(jellybeans_trimmed, 'log_guess', labels)\n",
    "\n",
    "#Add dashed line for the natural log of actual number of jellybeans, with annotation and arrow\n",
    "plt.axvline(x = np.log(1534), linestyle='--', color='black')\n",
    "plt.annotate('Log of actual number of jelly beans', xy=(np.log(1534), 25),\n",
    "             xytext=(np.log(2000), 22), arrowprops={'facecolor':'black', 'width':3},\n",
    "             backgroundcolor='white')\n",
    "plt.show()"
   ]
  },
  {
   "cell_type": "markdown",
   "id": "88135905",
   "metadata": {},
   "source": [
    "The log of guesses looks much closer to a normal distribution without the outliers than with outliers. As we did earlier, we can further confirm this by looking at a Q-Q plot."
   ]
  },
  {
   "cell_type": "code",
   "execution_count": 20,
   "id": "989e3ae0",
   "metadata": {},
   "outputs": [
    {
     "data": {
      "image/png": "[encoded data removed]",
      "text/plain": [
       "<Figure size 432x288 with 1 Axes>"
      ]
     },
     "metadata": {},
     "output_type": "display_data"
    }
   ],
   "source": [
    "qqplot(jellybeans_trimmed['log_guess'], fit=True, line='45')\n",
    "plt.title('Q-Q Plot of Log of Guesses Against Normal Distribution')\n",
    "plt.show()"
   ]
  },
  {
   "cell_type": "markdown",
   "id": "04355f9b",
   "metadata": {},
   "source": [
    "This distribution looks very close to normal.\n",
    "\n",
    "As we did earlier, let's group the guess column by the confident column to see if we can identify any differences between more and less confident guessers, this time without outliers..."
   ]
  },
  {
   "cell_type": "code",
   "execution_count": 21,
   "id": "cc922793",
   "metadata": {},
   "outputs": [
    {
     "data": {
      "text/html": [
       "<div>\n",
       "<style scoped>\n",
       "    .dataframe tbody tr th:only-of-type {\n",
       "        vertical-align: middle;\n",
       "    }\n",
       "\n",
       "    .dataframe tbody tr th {\n",
       "        vertical-align: top;\n",
       "    }\n",
       "\n",
       "    .dataframe thead tr th {\n",
       "        text-align: left;\n",
       "    }\n",
       "\n",
       "    .dataframe thead tr:last-of-type th {\n",
       "        text-align: right;\n",
       "    }\n",
       "</style>\n",
       "<table border=\"1\" class=\"dataframe\">\n",
       "  <thead>\n",
       "    <tr>\n",
       "      <th></th>\n",
       "      <th colspan=\"8\" halign=\"left\">guess</th>\n",
       "    </tr>\n",
       "    <tr>\n",
       "      <th></th>\n",
       "      <th>count</th>\n",
       "      <th>mean</th>\n",
       "      <th>std</th>\n",
       "      <th>min</th>\n",
       "      <th>25%</th>\n",
       "      <th>50%</th>\n",
       "      <th>75%</th>\n",
       "      <th>max</th>\n",
       "    </tr>\n",
       "    <tr>\n",
       "      <th>confident</th>\n",
       "      <th></th>\n",
       "      <th></th>\n",
       "      <th></th>\n",
       "      <th></th>\n",
       "      <th></th>\n",
       "      <th></th>\n",
       "      <th></th>\n",
       "      <th></th>\n",
       "    </tr>\n",
       "  </thead>\n",
       "  <tbody>\n",
       "    <tr>\n",
       "      <th>Less Confident</th>\n",
       "      <td>47.0</td>\n",
       "      <td>816.382979</td>\n",
       "      <td>592.451266</td>\n",
       "      <td>128.0</td>\n",
       "      <td>501.5</td>\n",
       "      <td>671.0</td>\n",
       "      <td>873.5</td>\n",
       "      <td>2850.0</td>\n",
       "    </tr>\n",
       "    <tr>\n",
       "      <th>More Confident</th>\n",
       "      <td>71.0</td>\n",
       "      <td>1145.591549</td>\n",
       "      <td>891.767179</td>\n",
       "      <td>198.0</td>\n",
       "      <td>536.0</td>\n",
       "      <td>853.0</td>\n",
       "      <td>1425.0</td>\n",
       "      <td>5000.0</td>\n",
       "    </tr>\n",
       "  </tbody>\n",
       "</table>\n",
       "</div>"
      ],
      "text/plain": [
       "               guess                                                        \\\n",
       "               count         mean         std    min    25%    50%     75%   \n",
       "confident                                                                    \n",
       "Less Confident  47.0   816.382979  592.451266  128.0  501.5  671.0   873.5   \n",
       "More Confident  71.0  1145.591549  891.767179  198.0  536.0  853.0  1425.0   \n",
       "\n",
       "                        \n",
       "                   max  \n",
       "confident               \n",
       "Less Confident  2850.0  \n",
       "More Confident  5000.0  "
      ]
     },
     "execution_count": 21,
     "metadata": {},
     "output_type": "execute_result"
    }
   ],
   "source": [
    "jellybeans_trimmed[['guess', 'confident']].groupby('confident').describe()"
   ]
  },
  {
   "cell_type": "markdown",
   "id": "35056e3d",
   "metadata": {},
   "source": [
    "...and let's compare this the summary statistics for the full data."
   ]
  },
  {
   "cell_type": "code",
   "execution_count": 22,
   "id": "5148be6f",
   "metadata": {},
   "outputs": [
    {
     "data": {
      "text/html": [
       "<div>\n",
       "<style scoped>\n",
       "    .dataframe tbody tr th:only-of-type {\n",
       "        vertical-align: middle;\n",
       "    }\n",
       "\n",
       "    .dataframe tbody tr th {\n",
       "        vertical-align: top;\n",
       "    }\n",
       "\n",
       "    .dataframe thead tr th {\n",
       "        text-align: left;\n",
       "    }\n",
       "\n",
       "    .dataframe thead tr:last-of-type th {\n",
       "        text-align: right;\n",
       "    }\n",
       "</style>\n",
       "<table border=\"1\" class=\"dataframe\">\n",
       "  <thead>\n",
       "    <tr>\n",
       "      <th></th>\n",
       "      <th colspan=\"8\" halign=\"left\">guess</th>\n",
       "    </tr>\n",
       "    <tr>\n",
       "      <th></th>\n",
       "      <th>count</th>\n",
       "      <th>mean</th>\n",
       "      <th>std</th>\n",
       "      <th>min</th>\n",
       "      <th>25%</th>\n",
       "      <th>50%</th>\n",
       "      <th>75%</th>\n",
       "      <th>max</th>\n",
       "    </tr>\n",
       "    <tr>\n",
       "      <th>confident</th>\n",
       "      <th></th>\n",
       "      <th></th>\n",
       "      <th></th>\n",
       "      <th></th>\n",
       "      <th></th>\n",
       "      <th></th>\n",
       "      <th></th>\n",
       "      <th></th>\n",
       "    </tr>\n",
       "  </thead>\n",
       "  <tbody>\n",
       "    <tr>\n",
       "      <th>Less Confident</th>\n",
       "      <td>51.0</td>\n",
       "      <td>1839.019608</td>\n",
       "      <td>5846.519130</td>\n",
       "      <td>20.0</td>\n",
       "      <td>481.5</td>\n",
       "      <td>671.0</td>\n",
       "      <td>914.5</td>\n",
       "      <td>40000.0</td>\n",
       "    </tr>\n",
       "    <tr>\n",
       "      <th>More Confident</th>\n",
       "      <td>75.0</td>\n",
       "      <td>1334.133333</td>\n",
       "      <td>1611.509393</td>\n",
       "      <td>12.0</td>\n",
       "      <td>526.0</td>\n",
       "      <td>853.0</td>\n",
       "      <td>1459.5</td>\n",
       "      <td>10369.0</td>\n",
       "    </tr>\n",
       "  </tbody>\n",
       "</table>\n",
       "</div>"
      ],
      "text/plain": [
       "               guess                                                        \\\n",
       "               count         mean          std   min    25%    50%     75%   \n",
       "confident                                                                    \n",
       "Less Confident  51.0  1839.019608  5846.519130  20.0  481.5  671.0   914.5   \n",
       "More Confident  75.0  1334.133333  1611.509393  12.0  526.0  853.0  1459.5   \n",
       "\n",
       "                         \n",
       "                    max  \n",
       "confident                \n",
       "Less Confident  40000.0  \n",
       "More Confident  10369.0  "
      ]
     },
     "execution_count": 22,
     "metadata": {},
     "output_type": "execute_result"
    }
   ],
   "source": [
    "jellybeans[['guess', 'confident']].groupby('confident').describe()"
   ]
  },
  {
   "cell_type": "markdown",
   "id": "2d937405",
   "metadata": {},
   "source": [
    "Without outliers, both the mean and the median of the less confident group of guessers are lower and further from the correct number than the mean and median of the more confident group of guessers. Also, the standard deviations of both groups are much lower without outliers than with outliers. And with and without outliers, the medians of each group based on confidence level are exactly the same.\n",
    "\n",
    "As before, let's visualize the two confidence groups with KDE plots."
   ]
  },
  {
   "cell_type": "code",
   "execution_count": 23,
   "id": "743dff4a",
   "metadata": {},
   "outputs": [
    {
     "data": {
      "image/png": "[encoded data removed]",
      "text/plain": [
       "<Figure size 1080x360 with 1 Axes>"
      ]
     },
     "metadata": {},
     "output_type": "display_data"
    }
   ],
   "source": [
    "#Plot a KDE plot of values of log_guess grouped by level of confident\n",
    "labels = ['Distribution of Log of Guesses', 'Log of Number of Jelly Beans']\n",
    "ef.eda_kde(jellybeans_trimmed, 'log_guess', labels, hue='confident')\n",
    "\n",
    "#Add dashed line for the natural log of actual number of jellybeans, with annotation and arrow\n",
    "plt.axvline(x = np.log(1534), linestyle='--', color='black')\n",
    "plt.annotate('Log of actual number of jelly beans', xy=(np.log(1534), 0.25),\n",
    "             xytext=(np.log(2000), 0.23), arrowprops={'facecolor':'black', 'width':3},\n",
    "             backgroundcolor='white')\n",
    "plt.show()"
   ]
  },
  {
   "cell_type": "markdown",
   "id": "55e67072",
   "metadata": {},
   "source": [
    "The distributions of more confident and less confident guessers are less spread out without outliers, but with peak densities still in the same places.\n",
    "\n",
    "## III. Conclusion\n",
    "\n",
    "Now that we have thoroughly explored the data, we have identified some interesting questions to explore and have a better idea of how to explore them. First, we can perform a hypothesis test for whether the crowd actually guessed the correct number of jelly beans. And given the presence of highly influential outliers, we should perform this test on both the mean and median of the data to account for influence of the outliers. Second, we should test whether there was actually any difference between how well the more and less confident guessers estimated the number of jelly beans in the jar, again looking at both the mean and the median to account for influence of the outliers.\n",
    "\n",
    "To perform these tests, we could perform t=tests, calculating t-statistics and computing p-values to determine whether or not we can reject the null hypotheses. However, t-tests assume that the test statistic we are interested in (e.g., the mean or median) follows a normal distribution [10]. We don't necessarily know that with our data. Moreover, using traditional hypothesis testing would lead to some unusual results with this data. For example, because the data is so skewed, if we were to construct 95% confidence intervals around either the mean of the overall data or the means of the data grouped by confidence level, the lower bounds of the confidence intervals would be negative, which is nonsensical in the context of an estimation task like this. While we could log transform the data and remove outliers, a t-test on the log transformed data would be harder to interpret, and we have reservations about removing outliers entirely.\n",
    "\n",
    "As we already noted, we could look at confidence intervals for the medians instead of the means. However, while estimating the standard error of a mean is straightforward due to the central limit theorem, the central limit theorem does not apply to the standard error of the median [12]. Therefore, instead of performing traditional hypothesis tests, we could instead perform the tests with bootstrap statistics [11-12]. While traditional hypothesis tests estimate sampling distributions using test statistics and a number of assumptions, bootstrapping estimates sampling distributions by resampling the data a large number of times with replacement and then computing the test statistic of interest on each resampled set of data [13-14]. Bootstrapping doesn't require the same test statistics and assumptions that traditional hypothesis testing require [14].\n",
    "\n",
    "We will explore these questions using these methods in more depth in the [jellybeans notebook](https://github.com/tommcd09/jellybeans/blob/main/jellybeans.ipynb). To conclude the analysis, let's export the clean data."
   ]
  },
  {
   "cell_type": "code",
   "execution_count": 24,
   "id": "4808c8e1",
   "metadata": {},
   "outputs": [],
   "source": [
    "jellybeans.to_csv('./data/jelly_beans_clean.csv', index=False)"
   ]
  },
  {
   "cell_type": "markdown",
   "id": "67e7a0b6",
   "metadata": {},
   "source": [
    "## IV. References\n",
    "\n",
    "1. Kao AB, Berdahl AM, Hartnett AT, Lutz MJ, Bak-Coleman JB, Ioannou CC, Giam X, Couzin ID. 2018 'Counteracting estimation bias and social influence to improve the wisdom of crowds'. J. R. Soc. Interface 15: 20180130. http://dx.doi.org/10.1098/rsif.2018.0130.\n",
    "2. Jeans J (1968/1937). Science & Music. Dover Publications.\n",
    "3. Ford C. August 26, 2015, 'Understanding Q-Q Plots'. University of Virginia Library Research Data Services + Sciences. https://data.library.virginia.edu/understanding-q-q-plots/.\n",
    "4. Aguinis H, Gottfredson RK, Joo H. 2013 'Best-practice recommendations for defining, identifying, and handling outliers'. Organizational Research Methods, 16(2), 270-301. http://www.hermanaguinis.com/ORMoutliers.pdf.\n",
    "5. Horsch A. November 22, 2020, 'Detecting And Treating Outliers In Python — Part 1: Hands-On Tutorial On Univariate Outliers'. Towards Data Science. https://towardsdatascience.com/detecting-and-treating-outliers-in-python-part-1-4ece5098b755.\n",
    "6. Horsch A. February 15, 2021, 'Detecting And Treating Outliers In Python — Part 3: Hands-On Tutorial On Treating Outliers — Winsorizing and Imputation'. Towards Data Science. https://towardsdatascience.com/detecting-and-treating-outliers-in-python-part-3-dcb54abaf7b0.\n",
    "7. Grace-Martin K. 'Outliers: To Drop or Not to Drop'. The Analysis Factor. https://www.theanalysisfactor.com/outliers-to-drop-or-not-to-drop/.\n",
    "8. Forst J. 'Guidelines for Removing and Handling Outliers in Data'. Statistics By Jim. https://statisticsbyjim.com/basics/remove-outliers/.\n",
    "9. Pardoe I, Simon L, Young D. 'A Strategy for Dealing with Problematic Data Points'. Penn State Eberly College of Science: Stats 501: Regression Methods. https://online.stat.psu.edu/stat501/lesson/11/11.7.\n",
    "10. Montgomery, DC (2013). Design and Analysis of Experiments, Eighth Edition. John Wiley & Sons, Inc.\n",
    "11. Buisson F. November 4, 2021, 'Ditch p-values. Use Bootstrap confidence intervals instead'. Towards Data Science. https://towardsdatascience.com/ditch-p-values-use-bootstrap-confidence-intervals-instead-bba56322b522\n",
    "12. Zhu Z. August 30, 2020, 'Estimate Standard Error of Median Using the Bootstrap Strategy'. Towards Data Science. https://towardsdatascience.com/how-to-estimate-the-standard-error-of-the-median-the-bootstrap-strategy-ed09cccb838a.\n",
    "13. MacKinnon JG. 2007 'Bootstrap Hypothesis Testing'. Queen’s Economics Department Working Paper No. 1127. https://ageconsearch.umn.edu/record/273603/files/qed_wp_1127.pdf.\n",
    "14. Forst J. 'Introduction to Bootstrapping in Statistics with an Example'. Statistics By Jim. https://statisticsbyjim.com/hypothesis-testing/bootstrapping/."
   ]
  }
 ],
 "metadata": {
  "kernelspec": {
   "display_name": "jelly",
   "language": "python",
   "name": "jelly"
  },
  "language_info": {
   "codemirror_mode": {
    "name": "ipython",
    "version": 3
   },
   "file_extension": ".py",
   "mimetype": "text/x-python",
   "name": "python",
   "nbconvert_exporter": "python",
   "pygments_lexer": "ipython3",
   "version": "3.8.8"
  }
 },
 "nbformat": 4,
 "nbformat_minor": 5
}
